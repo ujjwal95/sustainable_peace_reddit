{
 "cells": [
  {
   "cell_type": "markdown",
   "metadata": {},
   "source": [
    "## Import Libraries"
   ]
  },
  {
   "cell_type": "code",
   "execution_count": 3,
   "metadata": {},
   "outputs": [],
   "source": [
    "import praw\n",
    "import pandas as pd\n",
    "import datetime as dt\n",
    "import json"
   ]
  },
  {
   "cell_type": "markdown",
   "metadata": {},
   "source": [
    "## Functions"
   ]
  },
  {
   "cell_type": "code",
   "execution_count": 4,
   "metadata": {},
   "outputs": [],
   "source": [
    "def get_date(created):\n",
    "    return dt.datetime.fromtimestamp(created)"
   ]
  },
  {
   "cell_type": "markdown",
   "metadata": {},
   "source": [
    "## Credentials"
   ]
  },
  {
   "cell_type": "code",
   "execution_count": 5,
   "metadata": {},
   "outputs": [],
   "source": [
    "# Enter your keys/secrets as strings in the following fields\n",
    "# credentials = {}\n",
    "# credentials['client_id'] = 'Tt3sc9zHX1U4Pg'\n",
    "# credentials['client_secret'] = 'Tl_rWZZtVo0k46FFkM2i0BBCWQM'\n",
    "# credentials['user_agent'] = 'Scraping_data'\n",
    "# credentials['username'] = '311Sheetal'\n",
    "# credentials['password'] = 'Reddit'"
   ]
  },
  {
   "cell_type": "code",
   "execution_count": 6,
   "metadata": {},
   "outputs": [],
   "source": [
    "# Save the credentials object to file\n",
    "# with open(\"reddit_credentials.json\", \"w\") as file:\n",
    "#           json.dump(credentials, file)"
   ]
  },
  {
   "cell_type": "code",
   "execution_count": 7,
   "metadata": {},
   "outputs": [],
   "source": [
    "# Load credentials from json file\\n\n",
    "with open(\"reddit_credentials.json\", \"r\") as file:\n",
    "    creds = json.load(file)"
   ]
  },
  {
   "cell_type": "code",
   "execution_count": 8,
   "metadata": {},
   "outputs": [
    {
     "data": {
      "text/plain": [
       "{'client_id': 'Tt3sc9zHX1U4Pg',\n",
       " 'client_secret': 'Tl_rWZZtVo0k46FFkM2i0BBCWQM',\n",
       " 'user_agent': 'Scraping_data',\n",
       " 'username': '311Sheetal',\n",
       " 'password': 'Reddit'}"
      ]
     },
     "execution_count": 8,
     "metadata": {},
     "output_type": "execute_result"
    }
   ],
   "source": [
    "creds"
   ]
  },
  {
   "cell_type": "code",
   "execution_count": 9,
   "metadata": {},
   "outputs": [],
   "source": [
    "reddit = praw.Reddit(client_id = creds['client_id'],\n",
    "                     client_secret = creds['client_secret'],\n",
    "                     user_agent = creds['user_agent'],\n",
    "                     username = creds['username'],\n",
    "                     password = creds['password'])"
   ]
  },
  {
   "cell_type": "markdown",
   "metadata": {},
   "source": [
    "## Scrape Reddit Subreddits"
   ]
  },
  {
   "cell_type": "code",
   "execution_count": 20,
   "metadata": {},
   "outputs": [],
   "source": [
    "subreddits = {'republicans' : ['Republican'],\n",
    "              'democrats': ['democrats']\n",
    "             }"
   ]
  },
  {
   "cell_type": "code",
   "execution_count": 21,
   "metadata": {},
   "outputs": [],
   "source": [
    "subreddit = reddit.subreddit('Republican')"
   ]
  },
  {
   "cell_type": "code",
   "execution_count": 39,
   "metadata": {},
   "outputs": [],
   "source": [
    "subreddit_submissions_dict = {\"created\":[],\n",
    "                              \"title\":[],\n",
    "                              \"score\":[],\n",
    "                              \"post_id\": [],\n",
    "                              \"subreddit_id\": [],\n",
    "                              \"subreddit\" : [],\n",
    "                              \"author\" : [],\n",
    "                              \"title\":[],\n",
    "                              \"upvote_ratio\": [],\n",
    "                             \"body\": [],\n",
    "                             \"url\": [],\n",
    "                             \"num_comments\":[]}"
   ]
  },
  {
   "cell_type": "code",
   "execution_count": 40,
   "metadata": {},
   "outputs": [],
   "source": [
    "for submission in subreddit.new(limit=1):\n",
    "    if (not submission.banned_by is None) or (not submission.author is '[Deleted]') or (not submission.selftext == '[deleted]') or (not submission.selftext == '[removed]'):\n",
    "        subreddit_submissions_dict['created'].append(submission.created)\n",
    "        subreddit_submissions_dict['title'].append(submission.title)\n",
    "        subreddit_submissions_dict['score'].append(submission.score)\n",
    "        subreddit_submissions_dict['post_id'].append(submission.id)\n",
    "        subreddit_submissions_dict['subreddit_id'].append(submission.subreddit_id)\n",
    "        subreddit_submissions_dict['subreddit'].append(submission.subreddit)\n",
    "        subreddit_submissions_dict['author'].append(submission.author)\n",
    "        subreddit_submissions_dict['num_comments'].append(submission.num_comments)\n",
    "        subreddit_submissions_dict['upvote_ratio'].append(submission.upvote_ratio)\n",
    "        subreddit_submissions_dict['body'].append(submission.selftext)\n",
    "        subreddit_submissions_dict['url'].append(submission.url)\n"
   ]
  },
  {
   "cell_type": "code",
   "execution_count": 41,
   "metadata": {},
   "outputs": [],
   "source": [
    "subreddit_data = pd.DataFrame(subreddit_submissions_dict)\n",
    "_timestamp = subreddit_data[\"created\"].apply(get_date)\n",
    "subreddit_data = subreddit_data.assign(timestamp = _timestamp)"
   ]
  },
  {
   "cell_type": "code",
   "execution_count": 42,
   "metadata": {},
   "outputs": [
    {
     "data": {
      "text/html": [
       "<div>\n",
       "<style scoped>\n",
       "    .dataframe tbody tr th:only-of-type {\n",
       "        vertical-align: middle;\n",
       "    }\n",
       "\n",
       "    .dataframe tbody tr th {\n",
       "        vertical-align: top;\n",
       "    }\n",
       "\n",
       "    .dataframe thead th {\n",
       "        text-align: right;\n",
       "    }\n",
       "</style>\n",
       "<table border=\"1\" class=\"dataframe\">\n",
       "  <thead>\n",
       "    <tr style=\"text-align: right;\">\n",
       "      <th></th>\n",
       "      <th>created</th>\n",
       "      <th>title</th>\n",
       "      <th>score</th>\n",
       "      <th>post_id</th>\n",
       "      <th>subreddit_id</th>\n",
       "      <th>subreddit</th>\n",
       "      <th>author</th>\n",
       "      <th>upvote_ratio</th>\n",
       "      <th>body</th>\n",
       "      <th>url</th>\n",
       "      <th>num_comments</th>\n",
       "      <th>timestamp</th>\n",
       "    </tr>\n",
       "  </thead>\n",
       "  <tbody>\n",
       "    <tr>\n",
       "      <th>0</th>\n",
       "      <td>1.540721e+09</td>\n",
       "      <td>After three or four generations the outcomes a...</td>\n",
       "      <td>4</td>\n",
       "      <td>9rzttl</td>\n",
       "      <td>t5_2qndt</td>\n",
       "      <td>Republican</td>\n",
       "      <td>Happy_Camper_Of_Doom</td>\n",
       "      <td>0.75</td>\n",
       "      <td></td>\n",
       "      <td>https://i.redd.it/410bisvz3uu11.jpg</td>\n",
       "      <td>1</td>\n",
       "      <td>2018-10-28 06:07:25</td>\n",
       "    </tr>\n",
       "  </tbody>\n",
       "</table>\n",
       "</div>"
      ],
      "text/plain": [
       "        created                                              title  score  \\\n",
       "0  1.540721e+09  After three or four generations the outcomes a...      4   \n",
       "\n",
       "  post_id subreddit_id   subreddit                author  upvote_ratio body  \\\n",
       "0  9rzttl     t5_2qndt  Republican  Happy_Camper_Of_Doom          0.75        \n",
       "\n",
       "                                   url  num_comments           timestamp  \n",
       "0  https://i.redd.it/410bisvz3uu11.jpg             1 2018-10-28 06:07:25  "
      ]
     },
     "execution_count": 42,
     "metadata": {},
     "output_type": "execute_result"
    }
   ],
   "source": [
    "subreddit_data"
   ]
  },
  {
   "cell_type": "code",
   "execution_count": null,
   "metadata": {},
   "outputs": [],
   "source": []
  }
 ],
 "metadata": {
  "kernelspec": {
   "display_name": "Python 3",
   "language": "python",
   "name": "python3"
  },
  "language_info": {
   "codemirror_mode": {
    "name": "ipython",
    "version": 3
   },
   "file_extension": ".py",
   "mimetype": "text/x-python",
   "name": "python",
   "nbconvert_exporter": "python",
   "pygments_lexer": "ipython3",
   "version": "3.6.5"
  }
 },
 "nbformat": 4,
 "nbformat_minor": 2
}
