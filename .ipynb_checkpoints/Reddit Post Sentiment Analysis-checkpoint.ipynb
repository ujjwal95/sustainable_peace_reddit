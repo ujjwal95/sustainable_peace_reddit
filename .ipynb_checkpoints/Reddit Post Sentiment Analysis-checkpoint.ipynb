{
 "cells": [
  {
   "cell_type": "markdown",
   "metadata": {},
   "source": [
    "## Libraries"
   ]
  },
  {
   "cell_type": "code",
   "execution_count": 37,
   "metadata": {},
   "outputs": [],
   "source": [
    "import praw\n",
    "import pandas as pd\n",
    "import datetime as dt\n",
    "import json\n",
    "from bs4 import BeautifulSoup\n",
    "import re\n",
    "import nltk"
   ]
  },
  {
   "cell_type": "markdown",
   "metadata": {},
   "source": [
    "## Get Cred"
   ]
  },
  {
   "cell_type": "code",
   "execution_count": 2,
   "metadata": {},
   "outputs": [],
   "source": [
    "# Load credentials from json file\\n\n",
    "with open(\"reddit_credentials.json\", \"r\") as file:\n",
    "    creds = json.load(file)"
   ]
  },
  {
   "cell_type": "code",
   "execution_count": 3,
   "metadata": {},
   "outputs": [
    {
     "data": {
      "text/plain": [
       "{'client_id': 'Tt3sc9zHX1U4Pg',\n",
       " 'client_secret': 'Tl_rWZZtVo0k46FFkM2i0BBCWQM',\n",
       " 'user_agent': 'Scraping_data',\n",
       " 'username': '311Sheetal',\n",
       " 'password': 'Reddit'}"
      ]
     },
     "execution_count": 3,
     "metadata": {},
     "output_type": "execute_result"
    }
   ],
   "source": [
    "creds"
   ]
  },
  {
   "cell_type": "code",
   "execution_count": 4,
   "metadata": {},
   "outputs": [],
   "source": [
    "reddit = praw.Reddit(client_id = creds['client_id'],\n",
    "                     client_secret = creds['client_secret'],\n",
    "                     user_agent = creds['user_agent'],\n",
    "                     username = creds['username'],\n",
    "                     password = creds['password'])"
   ]
  },
  {
   "cell_type": "markdown",
   "metadata": {},
   "source": [
    "## Load Comments of a Post"
   ]
  },
  {
   "cell_type": "code",
   "execution_count": 5,
   "metadata": {},
   "outputs": [],
   "source": [
    "def fetch_comments(reddit_instance,postids):\n",
    "    \n",
    "    comments_dict = {\n",
    "        \"created\": [],\n",
    "        \"comment_id\": [],\n",
    "        \"author\": [],\n",
    "        \"body\": [],\n",
    "        \"parent_id\":[],\n",
    "        \"submission_id\":[],\n",
    "        \"score\":[],\n",
    "        \"subreddit\":[],\n",
    "        \"subreddit_id\":[]\n",
    "    }\n",
    "\n",
    "    submission = reddit_instance.submission(postids)\n",
    "    for postid in postids:\n",
    "        submission = reddit_instance.submission(postid)\n",
    "        submission.comments.replace_more(limit=None)\n",
    "        for comment in submission.comments.list():\n",
    "            comments_dict['created'].append(comment.created_utc)\n",
    "            comments_dict['comment_id'].append(comment.id)\n",
    "            comments_dict['author'].append(comment.author)\n",
    "            comments_dict['body'].append(comment.body)\n",
    "            comments_dict['parent_id'].append(comment.parent_id)\n",
    "            comments_dict['submission_id'].append(postid)\n",
    "            comments_dict['score'].append(comment.score)\n",
    "            comments_dict['subreddit'].append(comment.subreddit)\n",
    "            comments_dict['subreddit_id'].append(comment.subreddit_id)\n",
    "            \n",
    "    return pd.DataFrame(comments_dict)"
   ]
  },
  {
   "cell_type": "code",
   "execution_count": 6,
   "metadata": {},
   "outputs": [],
   "source": [
    "comments_info = fetch_comments(reddit, ['9u948a'])"
   ]
  },
  {
   "cell_type": "code",
   "execution_count": 26,
   "metadata": {},
   "outputs": [],
   "source": [
    "stopwords = nltk.corpus.stopwords.words('english')"
   ]
  },
  {
   "cell_type": "code",
   "execution_count": 28,
   "metadata": {},
   "outputs": [],
   "source": [
    "# remove stopwords\n",
    "comments_info['processed_body'] = comments_info['body'].apply(lambda x: \" \".join([word for word in x.split() if word not in stopwords]))"
   ]
  },
  {
   "cell_type": "code",
   "execution_count": 42,
   "metadata": {},
   "outputs": [],
   "source": [
    "# process html\n",
    "comments_info['processed_body'] = comments_info['processed_body'].apply(lambda x: BeautifulSoup(x, 'lxml').get_text())"
   ]
  },
  {
   "cell_type": "code",
   "execution_count": 43,
   "metadata": {},
   "outputs": [],
   "source": [
    "# check linked users\n",
    "comments_info['linked_users'] = comments_info['processed_body'].apply(lambda x: re.findall('/u/[A-Za-z0-9_-]+',x))\n",
    "# check linked subreddits\n",
    "comments_info['linked_subreddits'] = comments_info['processed_body'].apply(lambda x: re.findall('r/[A-Za-z0-9_-]+',x))"
   ]
  },
  {
   "cell_type": "code",
   "execution_count": 45,
   "metadata": {},
   "outputs": [],
   "source": [
    "# remove urls\n",
    "comments_info['processed_body'] = comments_info['processed_body'].apply(lambda x: re.sub('https?://[A-Za-z0-9./]+','',x))\n",
    "comments_info['processed_body'] = comments_info['processed_body'].apply(lambda x: re.sub('http?://[A-Za-z0-9./]+','',x))"
   ]
  },
  {
   "cell_type": "code",
   "execution_count": 46,
   "metadata": {},
   "outputs": [
    {
     "data": {
      "text/html": [
       "<div>\n",
       "<style scoped>\n",
       "    .dataframe tbody tr th:only-of-type {\n",
       "        vertical-align: middle;\n",
       "    }\n",
       "\n",
       "    .dataframe tbody tr th {\n",
       "        vertical-align: top;\n",
       "    }\n",
       "\n",
       "    .dataframe thead th {\n",
       "        text-align: right;\n",
       "    }\n",
       "</style>\n",
       "<table border=\"1\" class=\"dataframe\">\n",
       "  <thead>\n",
       "    <tr style=\"text-align: right;\">\n",
       "      <th></th>\n",
       "      <th>created</th>\n",
       "      <th>comment_id</th>\n",
       "      <th>author</th>\n",
       "      <th>body</th>\n",
       "      <th>parent_id</th>\n",
       "      <th>submission_id</th>\n",
       "      <th>score</th>\n",
       "      <th>subreddit</th>\n",
       "      <th>subreddit_id</th>\n",
       "      <th>processed_body</th>\n",
       "      <th>linked_users</th>\n",
       "    </tr>\n",
       "  </thead>\n",
       "  <tbody>\n",
       "    <tr>\n",
       "      <th>0</th>\n",
       "      <td>1.541387e+09</td>\n",
       "      <td>e92pd71</td>\n",
       "      <td>TheLizardKing25</td>\n",
       "      <td>I’m republican and glad she lost but this is a...</td>\n",
       "      <td>t3_9u948a</td>\n",
       "      <td>9u948a</td>\n",
       "      <td>187</td>\n",
       "      <td>Republican</td>\n",
       "      <td>t5_2qndt</td>\n",
       "      <td>I’m republican glad lost terrible comparison</td>\n",
       "      <td>[]</td>\n",
       "    </tr>\n",
       "    <tr>\n",
       "      <th>1</th>\n",
       "      <td>1.541424e+09</td>\n",
       "      <td>e93ctfa</td>\n",
       "      <td>Russilito</td>\n",
       "      <td>This is a bit of a stretch...</td>\n",
       "      <td>t3_9u948a</td>\n",
       "      <td>9u948a</td>\n",
       "      <td>11</td>\n",
       "      <td>Republican</td>\n",
       "      <td>t5_2qndt</td>\n",
       "      <td>This bit stretch...</td>\n",
       "      <td>[]</td>\n",
       "    </tr>\n",
       "    <tr>\n",
       "      <th>2</th>\n",
       "      <td>1.541393e+09</td>\n",
       "      <td>e92uzr2</td>\n",
       "      <td>TakenStankForever</td>\n",
       "      <td>Are you trying to tell me that UCF *aren't* na...</td>\n",
       "      <td>t3_9u948a</td>\n",
       "      <td>9u948a</td>\n",
       "      <td>3</td>\n",
       "      <td>Republican</td>\n",
       "      <td>t5_2qndt</td>\n",
       "      <td>Are trying tell UCF *aren't* national champs?</td>\n",
       "      <td>[]</td>\n",
       "    </tr>\n",
       "    <tr>\n",
       "      <th>3</th>\n",
       "      <td>1.541391e+09</td>\n",
       "      <td>e92tnh4</td>\n",
       "      <td>Poopsmith89</td>\n",
       "      <td>I dont completely understand the scoring syste...</td>\n",
       "      <td>t3_9u948a</td>\n",
       "      <td>9u948a</td>\n",
       "      <td>10</td>\n",
       "      <td>Republican</td>\n",
       "      <td>t5_2qndt</td>\n",
       "      <td>I dont completely understand scoring system (e...</td>\n",
       "      <td>[]</td>\n",
       "    </tr>\n",
       "    <tr>\n",
       "      <th>4</th>\n",
       "      <td>1.541386e+09</td>\n",
       "      <td>e92o8rr</td>\n",
       "      <td>FreedomOfOpression</td>\n",
       "      <td>But Hillary got more votes. Or Am I misunderst...</td>\n",
       "      <td>t3_9u948a</td>\n",
       "      <td>9u948a</td>\n",
       "      <td>16</td>\n",
       "      <td>Republican</td>\n",
       "      <td>t5_2qndt</td>\n",
       "      <td>But Hillary got votes. Or Am I misunderstandin...</td>\n",
       "      <td>[]</td>\n",
       "    </tr>\n",
       "  </tbody>\n",
       "</table>\n",
       "</div>"
      ],
      "text/plain": [
       "        created comment_id              author  \\\n",
       "0  1.541387e+09    e92pd71     TheLizardKing25   \n",
       "1  1.541424e+09    e93ctfa           Russilito   \n",
       "2  1.541393e+09    e92uzr2   TakenStankForever   \n",
       "3  1.541391e+09    e92tnh4         Poopsmith89   \n",
       "4  1.541386e+09    e92o8rr  FreedomOfOpression   \n",
       "\n",
       "                                                body  parent_id submission_id  \\\n",
       "0  I’m republican and glad she lost but this is a...  t3_9u948a        9u948a   \n",
       "1                      This is a bit of a stretch...  t3_9u948a        9u948a   \n",
       "2  Are you trying to tell me that UCF *aren't* na...  t3_9u948a        9u948a   \n",
       "3  I dont completely understand the scoring syste...  t3_9u948a        9u948a   \n",
       "4  But Hillary got more votes. Or Am I misunderst...  t3_9u948a        9u948a   \n",
       "\n",
       "   score   subreddit subreddit_id  \\\n",
       "0    187  Republican     t5_2qndt   \n",
       "1     11  Republican     t5_2qndt   \n",
       "2      3  Republican     t5_2qndt   \n",
       "3     10  Republican     t5_2qndt   \n",
       "4     16  Republican     t5_2qndt   \n",
       "\n",
       "                                      processed_body linked_users  \n",
       "0       I’m republican glad lost terrible comparison           []  \n",
       "1                                This bit stretch...           []  \n",
       "2      Are trying tell UCF *aren't* national champs?           []  \n",
       "3  I dont completely understand scoring system (e...           []  \n",
       "4  But Hillary got votes. Or Am I misunderstandin...           []  "
      ]
     },
     "execution_count": 46,
     "metadata": {},
     "output_type": "execute_result"
    }
   ],
   "source": [
    "comments_info.head()"
   ]
  },
  {
   "cell_type": "code",
   "execution_count": null,
   "metadata": {},
   "outputs": [],
   "source": []
  },
  {
   "cell_type": "code",
   "execution_count": null,
   "metadata": {},
   "outputs": [],
   "source": []
  },
  {
   "cell_type": "code",
   "execution_count": null,
   "metadata": {},
   "outputs": [],
   "source": []
  },
  {
   "cell_type": "code",
   "execution_count": null,
   "metadata": {},
   "outputs": [],
   "source": []
  },
  {
   "cell_type": "code",
   "execution_count": null,
   "metadata": {},
   "outputs": [],
   "source": []
  },
  {
   "cell_type": "code",
   "execution_count": null,
   "metadata": {},
   "outputs": [],
   "source": []
  },
  {
   "cell_type": "code",
   "execution_count": null,
   "metadata": {},
   "outputs": [],
   "source": []
  },
  {
   "cell_type": "code",
   "execution_count": null,
   "metadata": {},
   "outputs": [],
   "source": []
  },
  {
   "cell_type": "code",
   "execution_count": null,
   "metadata": {},
   "outputs": [],
   "source": []
  }
 ],
 "metadata": {
  "kernelspec": {
   "display_name": "Python 3",
   "language": "python",
   "name": "python3"
  },
  "language_info": {
   "codemirror_mode": {
    "name": "ipython",
    "version": 3
   },
   "file_extension": ".py",
   "mimetype": "text/x-python",
   "name": "python",
   "nbconvert_exporter": "python",
   "pygments_lexer": "ipython3",
   "version": "3.6.5"
  }
 },
 "nbformat": 4,
 "nbformat_minor": 2
}
