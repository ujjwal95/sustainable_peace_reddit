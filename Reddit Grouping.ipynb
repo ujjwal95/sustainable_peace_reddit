{
 "cells": [
  {
   "cell_type": "code",
   "execution_count": 18,
   "metadata": {},
   "outputs": [
    {
     "name": "stdout",
     "output_type": "stream",
     "text": [
      "1982\n"
     ]
    },
    {
     "data": {
      "text/plain": [
       "\"\\nfor i in range(len(republican))   :\\n    if republican[i]!= None :\\n        #print( republican[i].name)\\n        pass\\n        \\nsubreddit = reddit.subreddit('democrats')\\n#top_subreddit = subreddit.top()\\n#print (top_subreddit)         \\ndemocrat =[]\\nfor submission in subreddit.top(limit=500):\\n    #print(submission.title, submission.id)\\n    democrat.append(submission.author)\\n    \\nprint(len(democrat))   \\nfor i in range(len(democrat))   :\\n    if democrat[i]!= None :\\n        print( democrat[i].name)   \\n        \""
      ]
     },
     "execution_count": 18,
     "metadata": {},
     "output_type": "execute_result"
    }
   ],
   "source": [
    "import praw\n",
    "import pandas as pd\n",
    "import datetime as dt\n",
    "reddit = praw.Reddit(client_id='Tt3sc9zHX1U4Pg', \\\n",
    "                     client_secret='Tl_rWZZtVo0k46FFkM2i0BBCWQM', \\\n",
    "                     user_agent='Scraping_data', \\\n",
    "                     username='311Sheetal', \\\n",
    "                     password='Reddit')\n",
    "\n",
    "subreddit = reddit.subreddit('Republican')\n",
    "#top_subreddit = subreddit.top()\n",
    "#print (top_subreddit)         \n",
    "republican =[]\n",
    "for k in range(2):\n",
    "    \n",
    "    for submission in subreddit.top(limit=1500):\n",
    "        #print(submission.title, submission.id)\n",
    "        republican.append(submission.author)\n",
    "    \n",
    "print(len(republican))   \n",
    "\"\"\"\n",
    "for i in range(len(republican))   :\n",
    "    if republican[i]!= None :\n",
    "        #print( republican[i].name)\n",
    "        pass\n",
    "        \n",
    "subreddit = reddit.subreddit('democrats')\n",
    "#top_subreddit = subreddit.top()\n",
    "#print (top_subreddit)         \n",
    "democrat =[]\n",
    "for submission in subreddit.top(limit=500):\n",
    "    #print(submission.title, submission.id)\n",
    "    democrat.append(submission.author)\n",
    "    \n",
    "print(len(democrat))   \n",
    "for i in range(len(democrat))   :\n",
    "    if democrat[i]!= None :\n",
    "        print( democrat[i].name)   \n",
    "        \"\"\""
   ]
  },
  {
   "cell_type": "code",
   "execution_count": null,
   "metadata": {},
   "outputs": [],
   "source": []
  }
 ],
 "metadata": {
  "kernelspec": {
   "display_name": "Python 3",
   "language": "python",
   "name": "python3"
  },
  "language_info": {
   "codemirror_mode": {
    "name": "ipython",
    "version": 3
   },
   "file_extension": ".py",
   "mimetype": "text/x-python",
   "name": "python",
   "nbconvert_exporter": "python",
   "pygments_lexer": "ipython3",
   "version": "3.6.6"
  }
 },
 "nbformat": 4,
 "nbformat_minor": 2
}
