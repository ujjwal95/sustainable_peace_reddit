{
 "cells": [
  {
   "cell_type": "markdown",
   "metadata": {},
   "source": [
    "## Libraries"
   ]
  },
  {
   "cell_type": "code",
   "execution_count": 5,
   "metadata": {},
   "outputs": [],
   "source": [
    "import praw\n",
    "import pandas as pd\n",
    "import datetime as dt\n",
    "import json\n",
    "from bs4 import BeautifulSoup\n",
    "from reddit_helpers.text_processor import reddit_text_preprocessing\n",
    "import re\n",
    "import nltk"
   ]
  },
  {
   "cell_type": "markdown",
   "metadata": {},
   "source": [
    "## Get Cred"
   ]
  },
  {
   "cell_type": "code",
   "execution_count": 6,
   "metadata": {},
   "outputs": [],
   "source": [
    "# Load credentials from json file\\n\n",
    "with open(\"reddit_credentials.json\", \"r\") as file:\n",
    "    creds = json.load(file)"
   ]
  },
  {
   "cell_type": "code",
   "execution_count": 7,
   "metadata": {},
   "outputs": [
    {
     "data": {
      "text/plain": [
       "{'client_id': 'Tt3sc9zHX1U4Pg',\n",
       " 'client_secret': 'Tl_rWZZtVo0k46FFkM2i0BBCWQM',\n",
       " 'user_agent': 'Scraping_data',\n",
       " 'username': '311Sheetal',\n",
       " 'password': 'Reddit'}"
      ]
     },
     "execution_count": 7,
     "metadata": {},
     "output_type": "execute_result"
    }
   ],
   "source": [
    "creds"
   ]
  },
  {
   "cell_type": "code",
   "execution_count": 8,
   "metadata": {},
   "outputs": [],
   "source": [
    "reddit = praw.Reddit(client_id = creds['client_id'],\n",
    "                     client_secret = creds['client_secret'],\n",
    "                     user_agent = creds['user_agent'],\n",
    "                     username = creds['username'],\n",
    "                     password = creds['password'])"
   ]
  },
  {
   "cell_type": "markdown",
   "metadata": {},
   "source": [
    "## Helper Functions"
   ]
  },
  {
   "cell_type": "code",
   "execution_count": 24,
   "metadata": {},
   "outputs": [],
   "source": [
    "def get_date(created):\n",
    "    return dt.datetime.fromtimestamp(created)"
   ]
  },
  {
   "cell_type": "code",
   "execution_count": 25,
   "metadata": {},
   "outputs": [],
   "source": [
    "def fetch_comments(reddit_instance,postids):\n",
    "    \n",
    "    comments_dict = {\n",
    "        \"created\": [],\n",
    "        \"comment_id\": [],\n",
    "        \"author\": [],\n",
    "        \"body\": [],\n",
    "        \"parent_id\":[],\n",
    "        \"submission_id\":[],\n",
    "        \"score\":[],\n",
    "        \"subreddit\":[],\n",
    "        \"subreddit_id\":[]\n",
    "    }\n",
    "\n",
    "    submission = reddit_instance.submission(postids)\n",
    "    for postid in postids:\n",
    "        submission = reddit_instance.submission(postid)\n",
    "        submission.comments.replace_more(limit=None)\n",
    "        for comment in submission.comments.list():\n",
    "            comments_dict['created'].append(comment.created_utc)\n",
    "            comments_dict['comment_id'].append(comment.id)\n",
    "            comments_dict['author'].append(comment.author)\n",
    "            comments_dict['body'].append(comment.body)\n",
    "            comments_dict['parent_id'].append(comment.parent_id)\n",
    "            comments_dict['submission_id'].append(postid)\n",
    "            comments_dict['score'].append(comment.score)\n",
    "            comments_dict['subreddit'].append(comment.subreddit)\n",
    "            comments_dict['subreddit_id'].append(comment.subreddit_id)\n",
    "            \n",
    "    return pd.DataFrame(comments_dict)"
   ]
  },
  {
   "cell_type": "markdown",
   "metadata": {},
   "source": [
    "## Load Comments of a Post"
   ]
  },
  {
   "cell_type": "code",
   "execution_count": 28,
   "metadata": {},
   "outputs": [],
   "source": [
    "comments_info = fetch_comments(reddit, ['9u948a'])"
   ]
  },
  {
   "cell_type": "code",
   "execution_count": 29,
   "metadata": {},
   "outputs": [],
   "source": [
    "_timestamp = comments_info[\"created\"].apply(get_date)\n",
    "comments_info = comments_info.assign(timestamp = _timestamp)"
   ]
  },
  {
   "cell_type": "code",
   "execution_count": 30,
   "metadata": {},
   "outputs": [],
   "source": [
    "# check linked users\n",
    "comments_info['linked_users'] = comments_info['body'].apply(lambda x: re.findall('/u/[A-Za-z0-9_-]+',x))\n",
    "# check linked subreddits\n",
    "comments_info['linked_subreddits'] = comments_info['body'].apply(lambda x: re.findall('r/[A-Za-z0-9_-]+',x))"
   ]
  },
  {
   "cell_type": "code",
   "execution_count": 31,
   "metadata": {},
   "outputs": [],
   "source": [
    "# process text\n",
    "comments_info['processed_body'] = comments_info['body'].apply(lambda x: reddit_text_preprocessing(x).lower_case().process_html().remove_urls().decode_text().stopwords_remove().stopwords_remove().lemmatize().text)"
   ]
  },
  {
   "cell_type": "code",
   "execution_count": 32,
   "metadata": {},
   "outputs": [
    {
     "data": {
      "text/html": [
       "<div>\n",
       "<style scoped>\n",
       "    .dataframe tbody tr th:only-of-type {\n",
       "        vertical-align: middle;\n",
       "    }\n",
       "\n",
       "    .dataframe tbody tr th {\n",
       "        vertical-align: top;\n",
       "    }\n",
       "\n",
       "    .dataframe thead th {\n",
       "        text-align: right;\n",
       "    }\n",
       "</style>\n",
       "<table border=\"1\" class=\"dataframe\">\n",
       "  <thead>\n",
       "    <tr style=\"text-align: right;\">\n",
       "      <th></th>\n",
       "      <th>created</th>\n",
       "      <th>comment_id</th>\n",
       "      <th>author</th>\n",
       "      <th>body</th>\n",
       "      <th>parent_id</th>\n",
       "      <th>submission_id</th>\n",
       "      <th>score</th>\n",
       "      <th>subreddit</th>\n",
       "      <th>subreddit_id</th>\n",
       "      <th>timestamp</th>\n",
       "      <th>linked_users</th>\n",
       "      <th>linked_subreddits</th>\n",
       "      <th>processed_body</th>\n",
       "    </tr>\n",
       "  </thead>\n",
       "  <tbody>\n",
       "    <tr>\n",
       "      <th>0</th>\n",
       "      <td>1.541387e+09</td>\n",
       "      <td>e92pd71</td>\n",
       "      <td>TheLizardKing25</td>\n",
       "      <td>I’m republican and glad she lost but this is a...</td>\n",
       "      <td>t3_9u948a</td>\n",
       "      <td>9u948a</td>\n",
       "      <td>204</td>\n",
       "      <td>Republican</td>\n",
       "      <td>t5_2qndt</td>\n",
       "      <td>2018-11-04 22:06:03</td>\n",
       "      <td>[]</td>\n",
       "      <td>[]</td>\n",
       "      <td>i’m republican glad lose terrible comparison</td>\n",
       "    </tr>\n",
       "    <tr>\n",
       "      <th>1</th>\n",
       "      <td>1.541424e+09</td>\n",
       "      <td>e93ctfa</td>\n",
       "      <td>Russilito</td>\n",
       "      <td>This is a bit of a stretch...</td>\n",
       "      <td>t3_9u948a</td>\n",
       "      <td>9u948a</td>\n",
       "      <td>16</td>\n",
       "      <td>Republican</td>\n",
       "      <td>t5_2qndt</td>\n",
       "      <td>2018-11-05 08:22:01</td>\n",
       "      <td>[]</td>\n",
       "      <td>[]</td>\n",
       "      <td>bite stretch...</td>\n",
       "    </tr>\n",
       "    <tr>\n",
       "      <th>2</th>\n",
       "      <td>1.541393e+09</td>\n",
       "      <td>e92uzr2</td>\n",
       "      <td>TakenStankForever</td>\n",
       "      <td>Are you trying to tell me that UCF *aren't* na...</td>\n",
       "      <td>t3_9u948a</td>\n",
       "      <td>9u948a</td>\n",
       "      <td>3</td>\n",
       "      <td>Republican</td>\n",
       "      <td>t5_2qndt</td>\n",
       "      <td>2018-11-04 23:35:41</td>\n",
       "      <td>[]</td>\n",
       "      <td>[]</td>\n",
       "      <td>try tell ucf *aren't* national champs?</td>\n",
       "    </tr>\n",
       "    <tr>\n",
       "      <th>3</th>\n",
       "      <td>1.541456e+09</td>\n",
       "      <td>e94fu5d</td>\n",
       "      <td>bisemutum</td>\n",
       "      <td>$100,000,000,000 Billion is 5 million times th...</td>\n",
       "      <td>t3_9u948a</td>\n",
       "      <td>9u948a</td>\n",
       "      <td>3</td>\n",
       "      <td>Republican</td>\n",
       "      <td>t5_2qndt</td>\n",
       "      <td>2018-11-05 17:20:07</td>\n",
       "      <td>[]</td>\n",
       "      <td>[]</td>\n",
       "      <td>$100,000,000,000 billion 5 million time us gdp...</td>\n",
       "    </tr>\n",
       "    <tr>\n",
       "      <th>4</th>\n",
       "      <td>1.541391e+09</td>\n",
       "      <td>e92tnh4</td>\n",
       "      <td>Poopsmith89</td>\n",
       "      <td>I dont completely understand the scoring syste...</td>\n",
       "      <td>t3_9u948a</td>\n",
       "      <td>9u948a</td>\n",
       "      <td>9</td>\n",
       "      <td>Republican</td>\n",
       "      <td>t5_2qndt</td>\n",
       "      <td>2018-11-04 23:12:27</td>\n",
       "      <td>[]</td>\n",
       "      <td>[]</td>\n",
       "      <td>dont completely understand score system (elect...</td>\n",
       "    </tr>\n",
       "  </tbody>\n",
       "</table>\n",
       "</div>"
      ],
      "text/plain": [
       "        created comment_id             author  \\\n",
       "0  1.541387e+09    e92pd71    TheLizardKing25   \n",
       "1  1.541424e+09    e93ctfa          Russilito   \n",
       "2  1.541393e+09    e92uzr2  TakenStankForever   \n",
       "3  1.541456e+09    e94fu5d          bisemutum   \n",
       "4  1.541391e+09    e92tnh4        Poopsmith89   \n",
       "\n",
       "                                                body  parent_id submission_id  \\\n",
       "0  I’m republican and glad she lost but this is a...  t3_9u948a        9u948a   \n",
       "1                      This is a bit of a stretch...  t3_9u948a        9u948a   \n",
       "2  Are you trying to tell me that UCF *aren't* na...  t3_9u948a        9u948a   \n",
       "3  $100,000,000,000 Billion is 5 million times th...  t3_9u948a        9u948a   \n",
       "4  I dont completely understand the scoring syste...  t3_9u948a        9u948a   \n",
       "\n",
       "   score   subreddit subreddit_id           timestamp linked_users  \\\n",
       "0    204  Republican     t5_2qndt 2018-11-04 22:06:03           []   \n",
       "1     16  Republican     t5_2qndt 2018-11-05 08:22:01           []   \n",
       "2      3  Republican     t5_2qndt 2018-11-04 23:35:41           []   \n",
       "3      3  Republican     t5_2qndt 2018-11-05 17:20:07           []   \n",
       "4      9  Republican     t5_2qndt 2018-11-04 23:12:27           []   \n",
       "\n",
       "  linked_subreddits                                     processed_body  \n",
       "0                []       i’m republican glad lose terrible comparison  \n",
       "1                []                                    bite stretch...  \n",
       "2                []             try tell ucf *aren't* national champs?  \n",
       "3                []  $100,000,000,000 billion 5 million time us gdp...  \n",
       "4                []  dont completely understand score system (elect...  "
      ]
     },
     "execution_count": 32,
     "metadata": {},
     "output_type": "execute_result"
    }
   ],
   "source": [
    "comments_info.head()"
   ]
  },
  {
   "cell_type": "code",
   "execution_count": null,
   "metadata": {},
   "outputs": [],
   "source": []
  }
 ],
 "metadata": {
  "kernelspec": {
   "display_name": "Python 3",
   "language": "python",
   "name": "python3"
  },
  "language_info": {
   "codemirror_mode": {
    "name": "ipython",
    "version": 3
   },
   "file_extension": ".py",
   "mimetype": "text/x-python",
   "name": "python",
   "nbconvert_exporter": "python",
   "pygments_lexer": "ipython3",
   "version": "3.6.5"
  }
 },
 "nbformat": 4,
 "nbformat_minor": 2
}
