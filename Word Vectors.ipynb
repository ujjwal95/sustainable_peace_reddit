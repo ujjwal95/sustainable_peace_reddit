{
 "cells": [
  {
   "cell_type": "markdown",
   "metadata": {},
   "source": [
    "### Import libraries"
   ]
  },
  {
   "cell_type": "code",
   "execution_count": 1,
   "metadata": {},
   "outputs": [],
   "source": [
    "from gensim.models import Doc2Vec\n",
    "from sklearn.cluster import KMeans\n",
    "from sklearn.manifold import TSNE\n",
    "import numpy as np\n",
    "import pandas as pd\n",
    "import nltk\n",
    "from gensim.models.doc2vec import TaggedDocument\n",
    "import multiprocessing\n",
    "cores = multiprocessing.cpu_count()\n",
    "from tqdm import tqdm\n",
    "tqdm.pandas(desc=\"progress-bar\")\n",
    "from sklearn import utils\n",
    "import time\n",
    "import matplotlib.pyplot as plt\n",
    "import seaborn as sns\n",
    "%matplotlib inline"
   ]
  },
  {
   "cell_type": "markdown",
   "metadata": {},
   "source": [
    "### Import data"
   ]
  },
  {
   "cell_type": "code",
   "execution_count": 2,
   "metadata": {},
   "outputs": [],
   "source": [
    "def tokenize_text(text):\n",
    "    tokens = []\n",
    "    for sent in nltk.sent_tokenize(text):\n",
    "        for word in nltk.word_tokenize(sent):\n",
    "            if len(word) < 2:\n",
    "                continue\n",
    "            tokens.append(word.lower())\n",
    "    return tokens"
   ]
  },
  {
   "cell_type": "code",
   "execution_count": 3,
   "metadata": {},
   "outputs": [],
   "source": [
    "people_data = pd.read_csv('conflicting_comments.csv')"
   ]
  },
  {
   "cell_type": "code",
   "execution_count": 4,
   "metadata": {},
   "outputs": [],
   "source": [
    "people_data['processed_body'] = people_data['processed_body'].astype(str)"
   ]
  },
  {
   "cell_type": "code",
   "execution_count": 5,
   "metadata": {},
   "outputs": [],
   "source": [
    "compressed_data= pd.DataFrame(people_data.groupby(['author'])['processed_body'].apply(lambda x: '. '.join(x))).reset_index()"
   ]
  },
  {
   "cell_type": "code",
   "execution_count": 6,
   "metadata": {},
   "outputs": [
    {
     "data": {
      "text/html": [
       "<div>\n",
       "<style scoped>\n",
       "    .dataframe tbody tr th:only-of-type {\n",
       "        vertical-align: middle;\n",
       "    }\n",
       "\n",
       "    .dataframe tbody tr th {\n",
       "        vertical-align: top;\n",
       "    }\n",
       "\n",
       "    .dataframe thead th {\n",
       "        text-align: right;\n",
       "    }\n",
       "</style>\n",
       "<table border=\"1\" class=\"dataframe\">\n",
       "  <thead>\n",
       "    <tr style=\"text-align: right;\">\n",
       "      <th></th>\n",
       "      <th>author</th>\n",
       "      <th>processed_body</th>\n",
       "    </tr>\n",
       "  </thead>\n",
       "  <tbody>\n",
       "    <tr>\n",
       "      <th>0</th>\n",
       "      <td>--shaunoftheliving</td>\n",
       "      <td>pay testin opinionnials change anyone mind</td>\n",
       "    </tr>\n",
       "    <tr>\n",
       "      <th>1</th>\n",
       "      <td>-4</td>\n",
       "      <td>0.86</td>\n",
       "    </tr>\n",
       "    <tr>\n",
       "      <th>2</th>\n",
       "      <td>-bluewave-</td>\n",
       "      <td>mean really diffisee yoult call trump jewish p...</td>\n",
       "    </tr>\n",
       "    <tr>\n",
       "      <th>3</th>\n",
       "      <td>-dank-matter-</td>\n",
       "      <td>every tinstant messagee boston globe re-mailin...</td>\n",
       "    </tr>\n",
       "    <tr>\n",
       "      <th>4</th>\n",
       "      <td>1994spaceodyssey</td>\n",
       "      <td>mandate fail policy experinstant messageent lo...</td>\n",
       "    </tr>\n",
       "  </tbody>\n",
       "</table>\n",
       "</div>"
      ],
      "text/plain": [
       "               author                                     processed_body\n",
       "0  --shaunoftheliving         pay testin opinionnials change anyone mind\n",
       "1                  -4                                               0.86\n",
       "2          -bluewave-  mean really diffisee yoult call trump jewish p...\n",
       "3       -dank-matter-  every tinstant messagee boston globe re-mailin...\n",
       "4    1994spaceodyssey  mandate fail policy experinstant messageent lo..."
      ]
     },
     "execution_count": 6,
     "metadata": {},
     "output_type": "execute_result"
    }
   ],
   "source": [
    "compressed_data.head()"
   ]
  },
  {
   "cell_type": "code",
   "execution_count": 7,
   "metadata": {},
   "outputs": [],
   "source": [
    "compressed_data_tagged = compressed_data.apply(\n",
    "    lambda r: TaggedDocument(words=tokenize_text(r['processed_body']), tags=[r.author]), axis=1)"
   ]
  },
  {
   "cell_type": "markdown",
   "metadata": {},
   "source": [
    "### Train Doc2Vec"
   ]
  },
  {
   "cell_type": "code",
   "execution_count": 8,
   "metadata": {},
   "outputs": [
    {
     "name": "stderr",
     "output_type": "stream",
     "text": [
      "100%|██████████| 960/960 [00:00<00:00, 551353.12it/s]\n"
     ]
    }
   ],
   "source": [
    "model_dbow = Doc2Vec(dm=0, vector_size=100, negative=5, hs=0, min_count=2, sample = 0, workers=cores)\n",
    "model_dbow.build_vocab([x for x in tqdm(compressed_data_tagged.values)])"
   ]
  },
  {
   "cell_type": "code",
   "execution_count": 9,
   "metadata": {},
   "outputs": [
    {
     "name": "stderr",
     "output_type": "stream",
     "text": [
      "100%|██████████| 960/960 [00:00<00:00, 600347.67it/s]\n",
      "100%|██████████| 960/960 [00:00<00:00, 1275025.92it/s]\n",
      "100%|██████████| 960/960 [00:00<00:00, 1306467.18it/s]\n",
      "100%|██████████| 960/960 [00:00<00:00, 792000.76it/s]\n",
      "100%|██████████| 960/960 [00:00<00:00, 904026.01it/s]\n",
      "100%|██████████| 960/960 [00:00<00:00, 1787186.79it/s]\n",
      "100%|██████████| 960/960 [00:00<00:00, 1080078.28it/s]\n",
      "100%|██████████| 960/960 [00:00<00:00, 1470073.69it/s]\n",
      "100%|██████████| 960/960 [00:00<00:00, 1714147.23it/s]\n",
      "100%|██████████| 960/960 [00:00<00:00, 1449957.45it/s]\n",
      "100%|██████████| 960/960 [00:00<00:00, 1279889.33it/s]\n",
      "100%|██████████| 960/960 [00:00<00:00, 1264614.27it/s]\n",
      "100%|██████████| 960/960 [00:00<00:00, 1006381.36it/s]\n",
      "100%|██████████| 960/960 [00:00<00:00, 1596562.98it/s]\n",
      "100%|██████████| 960/960 [00:00<00:00, 1589629.62it/s]\n",
      "100%|██████████| 960/960 [00:00<00:00, 650279.69it/s]\n",
      "100%|██████████| 960/960 [00:00<00:00, 1555846.92it/s]\n",
      "100%|██████████| 960/960 [00:00<00:00, 1152413.23it/s]\n",
      "100%|██████████| 960/960 [00:00<00:00, 940339.06it/s]\n",
      "100%|██████████| 960/960 [00:00<00:00, 774184.16it/s]\n",
      "100%|██████████| 960/960 [00:00<00:00, 993714.67it/s]\n",
      "100%|██████████| 960/960 [00:00<00:00, 1354366.58it/s]\n",
      "100%|██████████| 960/960 [00:00<00:00, 1344417.98it/s]\n",
      "100%|██████████| 960/960 [00:00<00:00, 1441135.23it/s]\n",
      "100%|██████████| 960/960 [00:00<00:00, 1055170.82it/s]\n",
      "100%|██████████| 960/960 [00:00<00:00, 1373305.54it/s]\n",
      "100%|██████████| 960/960 [00:00<00:00, 1437020.64it/s]\n",
      "100%|██████████| 960/960 [00:00<00:00, 1033238.86it/s]\n",
      "100%|██████████| 960/960 [00:00<00:00, 1223126.32it/s]\n",
      "100%|██████████| 960/960 [00:00<00:00, 1360314.81it/s]\n"
     ]
    }
   ],
   "source": [
    "for epoch in range(30):\n",
    "    model_dbow.train(utils.shuffle([x for x in tqdm(compressed_data_tagged.values)]), total_examples=len(compressed_data_tagged.values), epochs=1)\n",
    "    model_dbow.alpha -= 0.002\n",
    "    model_dbow.min_alpha = model_dbow.alpha"
   ]
  },
  {
   "cell_type": "code",
   "execution_count": 10,
   "metadata": {},
   "outputs": [],
   "source": [
    "def vec_for_clustering(model, tagged_docs):\n",
    "    sents = tagged_docs.values\n",
    "    targets, regressors = zip(*[(doc.tags[0], model.infer_vector(doc.words, steps=20)) for doc in sents])\n",
    "    return targets, regressors"
   ]
  },
  {
   "cell_type": "code",
   "execution_count": 11,
   "metadata": {},
   "outputs": [],
   "source": [
    "targets, learned_vectors = vec_for_clustering(model_dbow, compressed_data_tagged)"
   ]
  },
  {
   "cell_type": "code",
   "execution_count": 12,
   "metadata": {},
   "outputs": [],
   "source": [
    "vectored_data = pd.concat([pd.DataFrame({'author': targets}), pd.DataFrame(learned_vectors)], axis = 1)"
   ]
  },
  {
   "cell_type": "markdown",
   "metadata": {},
   "source": [
    "### Train K-Means"
   ]
  },
  {
   "cell_type": "code",
   "execution_count": 13,
   "metadata": {},
   "outputs": [],
   "source": [
    "# train a kmeans on n clusters = 2\n",
    "km = KMeans(n_clusters=2).fit(vectored_data.loc[:, vectored_data.columns != 'author'])\n",
    "vectored_data['cluster'] = km.predict(vectored_data.loc[:, vectored_data.columns != 'author'])"
   ]
  },
  {
   "cell_type": "markdown",
   "metadata": {},
   "source": [
    "### Use t-SNE for plotting"
   ]
  },
  {
   "cell_type": "code",
   "execution_count": 14,
   "metadata": {},
   "outputs": [
    {
     "name": "stdout",
     "output_type": "stream",
     "text": [
      "[t-SNE] Computing 151 nearest neighbors...\n",
      "[t-SNE] Indexed 960 samples in 0.005s...\n",
      "[t-SNE] Computed neighbors for 960 samples in 0.120s...\n",
      "[t-SNE] Computed conditional probabilities for sample 960 / 960\n",
      "[t-SNE] Mean sigma: 0.136133\n",
      "[t-SNE] KL divergence after 250 iterations with early exaggeration: 58.595955\n",
      "[t-SNE] KL divergence after 4250 iterations: 0.852555\n",
      "t-SNE done! Time elapsed: 27.986763954162598 seconds\n"
     ]
    }
   ],
   "source": [
    "# tsne for dimensionality reduction\n",
    "time_start = time.time()\n",
    "tsne = TSNE(n_components=2, verbose=1, perplexity=50, n_iter=5000)\n",
    "tsne_results = tsne.fit_transform(vectored_data.loc[:, vectored_data.columns != 'author'])\n",
    "\n",
    "print('t-SNE done! Time elapsed: {} seconds'.format(time.time()-time_start))"
   ]
  },
  {
   "cell_type": "code",
   "execution_count": 15,
   "metadata": {},
   "outputs": [],
   "source": [
    "# save to original dataframe\n",
    "vectored_data['x_tsne'] = tsne_results[:,0]\n",
    "vectored_data['y_tsne'] = tsne_results[:,1]"
   ]
  },
  {
   "cell_type": "code",
   "execution_count": 16,
   "metadata": {},
   "outputs": [
    {
     "data": {
      "image/png": "[encoded data removed]",
      "text/plain": [
       "<Figure size 792x504 with 1 Axes>"
      ]
     },
     "metadata": {
      "needs_background": "light"
     },
     "output_type": "display_data"
    }
   ],
   "source": [
    "plt.figure(figsize=(11,7))\n",
    "sns.scatterplot(x = 'x_tsne', y = 'y_tsne', data = vectored_data, hue = 'cluster', palette=sns.color_palette(\"hls\", 2))\n",
    "plt.show()"
   ]
  },
  {
   "cell_type": "markdown",
   "metadata": {},
   "source": [
    "### Compare with Rule Based Classification"
   ]
  },
  {
   "cell_type": "code",
   "execution_count": 17,
   "metadata": {},
   "outputs": [],
   "source": [
    "original_group = people_data.groupby(['author', 'comment_group'], as_index=False).first()[['author', 'comment_group']]"
   ]
  },
  {
   "cell_type": "code",
   "execution_count": 18,
   "metadata": {},
   "outputs": [],
   "source": [
    "rem_authors = original_group.loc[(original_group['comment_group'] == original_group['comment_group'].value_counts().index[2]) |\n",
    "                   (original_group['comment_group'] == original_group['comment_group'].value_counts().index[3])]['author'].values"
   ]
  },
  {
   "cell_type": "code",
   "execution_count": 19,
   "metadata": {},
   "outputs": [],
   "source": [
    "vectored_data = vectored_data.loc[~vectored_data.author.isin(rem_authors), :]\n",
    "original_group = original_group.loc[~original_group.author.isin(rem_authors), :]"
   ]
  },
  {
   "cell_type": "code",
   "execution_count": 20,
   "metadata": {},
   "outputs": [],
   "source": [
    "combined_data = pd.merge(left=vectored_data[['author', 'cluster']], right = original_group) "
   ]
  },
  {
   "cell_type": "code",
   "execution_count": 21,
   "metadata": {},
   "outputs": [
    {
     "data": {
      "text/html": [
       "<div>\n",
       "<style scoped>\n",
       "    .dataframe tbody tr th:only-of-type {\n",
       "        vertical-align: middle;\n",
       "    }\n",
       "\n",
       "    .dataframe tbody tr th {\n",
       "        vertical-align: top;\n",
       "    }\n",
       "\n",
       "    .dataframe thead th {\n",
       "        text-align: right;\n",
       "    }\n",
       "</style>\n",
       "<table border=\"1\" class=\"dataframe\">\n",
       "  <thead>\n",
       "    <tr style=\"text-align: right;\">\n",
       "      <th></th>\n",
       "      <th></th>\n",
       "      <th>author</th>\n",
       "    </tr>\n",
       "    <tr>\n",
       "      <th>cluster</th>\n",
       "      <th>comment_group</th>\n",
       "      <th></th>\n",
       "    </tr>\n",
       "  </thead>\n",
       "  <tbody>\n",
       "    <tr>\n",
       "      <th rowspan=\"2\" valign=\"top\">0</th>\n",
       "      <th>Republican</th>\n",
       "      <td>270</td>\n",
       "    </tr>\n",
       "    <tr>\n",
       "      <th>democrats</th>\n",
       "      <td>504</td>\n",
       "    </tr>\n",
       "    <tr>\n",
       "      <th rowspan=\"2\" valign=\"top\">1</th>\n",
       "      <th>Republican</th>\n",
       "      <td>65</td>\n",
       "    </tr>\n",
       "    <tr>\n",
       "      <th>democrats</th>\n",
       "      <td>119</td>\n",
       "    </tr>\n",
       "  </tbody>\n",
       "</table>\n",
       "</div>"
      ],
      "text/plain": [
       "                       author\n",
       "cluster comment_group        \n",
       "0       Republican        270\n",
       "        democrats         504\n",
       "1       Republican         65\n",
       "        democrats         119"
      ]
     },
     "execution_count": 21,
     "metadata": {},
     "output_type": "execute_result"
    }
   ],
   "source": [
    "combined_data.groupby(['cluster', 'comment_group']).agg('count')"
   ]
  },
  {
   "cell_type": "code",
   "execution_count": 30,
   "metadata": {},
   "outputs": [],
   "source": [
    "combined_data.rename(columns={\"comment_group\": \"rule_based\", \"cluster\": \"ml_based\"})\n",
    "combined_data['link'] = 'https://www.reddit.com/u/'+ combined_data['author']\n",
    "combined_data.to_csv('./user_groups_predicted_plus_rule.csv', header= False)"
   ]
  },
  {
   "cell_type": "code",
   "execution_count": null,
   "metadata": {},
   "outputs": [],
   "source": []
  }
 ],
 "metadata": {
  "kernelspec": {
   "display_name": "Python 3",
   "language": "python",
   "name": "python3"
  },
  "language_info": {
   "codemirror_mode": {
    "name": "ipython",
    "version": 3
   },
   "file_extension": ".py",
   "mimetype": "text/x-python",
   "name": "python",
   "nbconvert_exporter": "python",
   "pygments_lexer": "ipython3",
   "version": "3.6.8"
  }
 },
 "nbformat": 4,
 "nbformat_minor": 2
}
